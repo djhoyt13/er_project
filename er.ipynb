{
 "cells": [
  {
   "cell_type": "code",
   "execution_count": 1,
   "metadata": {},
   "outputs": [],
   "source": [
    "import requests\n",
    "import pandas as pd\n",
    "from io import BytesIO"
   ]
  },
  {
   "cell_type": "code",
   "execution_count": 5,
   "metadata": {},
   "outputs": [],
   "source": [
    "url = \"https://raw.githubusercontent.com/tomonori-masui/entity-resolution/main/data/musicbrainz_200k.csv\"\n",
    "data = requests.get(url)\n",
    "df = pd.read_csv(BytesIO(data.content))\n",
    "test_df = df.drop(columns=[\"CID\"])"
   ]
  },
  {
   "cell_type": "code",
   "execution_count": 6,
   "metadata": {},
   "outputs": [
    {
     "name": "stdout",
     "output_type": "stream",
     "text": [
      "(193750, 12)\n",
      "Index(['TID', 'CID', 'CTID', 'SourceID', 'id', 'number', 'title', 'length',\n",
      "       'artist', 'album', 'year', 'language'],\n",
      "      dtype='object')\n",
      "TID          int64\n",
      "CID          int64\n",
      "CTID         int64\n",
      "SourceID     int64\n",
      "id          object\n",
      "number      object\n",
      "title       object\n",
      "length      object\n",
      "artist      object\n",
      "album       object\n",
      "year        object\n",
      "language    object\n",
      "dtype: object\n",
      "                 TID            CID           CTID       SourceID\n",
      "count  193750.000000  193750.000000  193750.000000  193750.000000\n",
      "mean    96875.500000   50108.530095       1.838710       3.001290\n",
      "std     55930.951665   28875.991529       1.080528       1.414844\n",
      "min         1.000000       1.000000       1.000000       1.000000\n",
      "25%     48438.250000   25089.250000       1.000000       2.000000\n",
      "50%     96875.500000   50231.500000       1.000000       3.000000\n",
      "75%    145312.750000   75129.000000       2.000000       4.000000\n",
      "max    193750.000000  100000.000000       5.000000       5.000000\n",
      "<class 'pandas.core.frame.DataFrame'>\n",
      "RangeIndex: 193750 entries, 0 to 193749\n",
      "Data columns (total 12 columns):\n",
      " #   Column    Non-Null Count   Dtype \n",
      "---  ------    --------------   ----- \n",
      " 0   TID       193750 non-null  int64 \n",
      " 1   CID       193750 non-null  int64 \n",
      " 2   CTID      193750 non-null  int64 \n",
      " 3   SourceID  193750 non-null  int64 \n",
      " 4   id        192705 non-null  object\n",
      " 5   number    192667 non-null  object\n",
      " 6   title     192961 non-null  object\n",
      " 7   length    183020 non-null  object\n",
      " 8   artist    153785 non-null  object\n",
      " 9   album     156143 non-null  object\n",
      " 10  year      116135 non-null  object\n",
      " 11  language  148743 non-null  object\n",
      "dtypes: int64(4), object(8)\n",
      "memory usage: 17.7+ MB\n",
      "None\n",
      "   TID    CID  CTID  SourceID               id number  \\\n",
      "0    1      1     1         1       WoM5452845      0   \n",
      "1    2  32522     4         2  MBox36398328-HH     11   \n",
      "2    3  53749     2         3     4382873MB-01      2   \n",
      "3    4      2     1         3             unk.     17   \n",
      "4    5  31368     3         4      215214-A048      6   \n",
      "\n",
      "                                               title    length  \\\n",
      "0  L'enfant aux yeux d'Italie (De vous à elle en ...     03:39   \n",
      "1                        Silver Forest - 双剣乱舞 みょん＆me       229   \n",
      "2                            shabnavard - Chavoush 2    27.183   \n",
      "3            Mustard Gas - There and Back Again Lane      2.15   \n",
      "4                           006-Immer bis ich reier'  3m 48sec   \n",
      "\n",
      "             artist                               album  year  language  \n",
      "0  Daniel Balavoine  De vous à elle en passsant par moi  1975       NaN  \n",
      "1               NaN       Silver Forest 2006-2012 BEST1    12  Japanese  \n",
      "2       شهرام ناظری                                 NaN   NaN   Persian  \n",
      "3  Action Painting!                                 NaN   '95   English  \n",
      "4          Nordwand           Das Pinke Album (unknown)   NaN      Ger.  \n"
     ]
    }
   ],
   "source": [
    "print(test_df.shape)\n",
    "print(test_df.columns)\n",
    "print(test_df.dtypes)\n",
    "print(test_df.describe())\n",
    "print(test_df.info())\n",
    "print(test_df.head())"
   ]
  }
 ],
 "metadata": {
  "kernelspec": {
   "display_name": ".venv",
   "language": "python",
   "name": "python3"
  },
  "language_info": {
   "codemirror_mode": {
    "name": "ipython",
    "version": 3
   },
   "file_extension": ".py",
   "mimetype": "text/x-python",
   "name": "python",
   "nbconvert_exporter": "python",
   "pygments_lexer": "ipython3",
   "version": "3.11.6"
  }
 },
 "nbformat": 4,
 "nbformat_minor": 2
}
